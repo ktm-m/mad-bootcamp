{
  "cells": [
    {
      "cell_type": "markdown",
      "id": "91ee14ce",
      "metadata": {
        "id": "91ee14ce"
      },
      "source": [
        "## Prerequisite: Generate OpenAI key\n",
        "\n",
        "Generate key from: https://platform.openai.com/api-keys"
      ]
    },
    {
      "cell_type": "code",
      "execution_count": null,
      "id": "12e6fee7",
      "metadata": {
        "ExecuteTime": {
          "end_time": "2024-06-06T14:22:37.625504Z",
          "start_time": "2024-06-06T14:22:23.455271Z"
        },
        "collapsed": true,
        "id": "12e6fee7"
      },
      "outputs": [],
      "source": [
        "!pip install -q langchain==0.2.2\n",
        "!pip install -q langchain-openai==0.1.8"
      ]
    },
    {
      "cell_type": "code",
      "execution_count": null,
      "id": "db747224",
      "metadata": {
        "ExecuteTime": {
          "end_time": "2024-06-06T14:26:32.557670Z",
          "start_time": "2024-06-06T14:26:32.555816Z"
        },
        "id": "db747224"
      },
      "outputs": [],
      "source": [
        "import os\n",
        "\n",
        "from langchain_openai import ChatOpenAI\n",
        "from langchain_core.messages import HumanMessage, SystemMessage\n",
        "from langchain_core.prompts import ChatPromptTemplate\n",
        "from langchain_core.output_parsers import StrOutputParser, JsonOutputParser\n",
        "from langchain.globals import set_debug\n",
        "from google.colab import userdata\n",
        "\n",
        "os.environ[\"OPENAI_API_KEY\"] = userdata.get(\"OPENAI_API_KEY\")\n",
        "set_debug(False) # disable langchain debug mode"
      ]
    },
    {
      "cell_type": "markdown",
      "id": "5947e2aa",
      "metadata": {
        "id": "5947e2aa"
      },
      "source": [
        "## Building Information Extraction AI"
      ]
    },
    {
      "cell_type": "code",
      "execution_count": null,
      "id": "9ea215a3",
      "metadata": {
        "ExecuteTime": {
          "end_time": "2024-06-06T15:55:20.975599Z",
          "start_time": "2024-06-06T15:55:20.972798Z"
        },
        "id": "9ea215a3"
      },
      "outputs": [],
      "source": [
        "mock_email = \"\"\"\n",
        "Dear Hiring Team,\n",
        "\n",
        "    My name is Kasikorn Rakthai, and I am excited to apply for the Frontend Developer position at KBTG. With a Bachelor’s degree in Computer Science from Chulalongkorn University and over three years of experience in frontend development, I am confident in my ability to contribute to your innovative team.\n",
        "I am proficient in HTML, CSS, JavaScript, and frameworks such as React.js and Angular. I successfully led a website redesign that increased user engagement by 30% and improved conversion rates by 20%.\n",
        "KBTG's commitment to technological innovation greatly excites me, and I am eager to bring my skills to your team. Attached is my resume for your review. I am available for an interview at your convenience and can be reached at 089-123456.\n",
        "Thank you for considering my application.\n",
        "\n",
        "Best regards,\n",
        "Kasikorn Rakthai\n",
        "\"\"\""
      ]
    },
    {
      "cell_type": "code",
      "execution_count": null,
      "id": "5c65cbbb",
      "metadata": {
        "ExecuteTime": {
          "end_time": "2024-06-06T16:20:58.019570Z",
          "start_time": "2024-06-06T16:20:58.006422Z"
        },
        "id": "5c65cbbb"
      },
      "outputs": [],
      "source": [
        "model = ChatOpenAI(\n",
        "    model=\"gpt-3.5-turbo\",\n",
        "    temperature=0.0\n",
        ")\n",
        "\n",
        "prompt_template = ChatPromptTemplate.from_messages(\n",
        "    [\n",
        "        (\n",
        "            \"system\",\n",
        "            \"\"\"\n",
        "            You are a Hiring Manager at KBTG reading a candidate's email.\n",
        "            A candidate's email text will be given.\n",
        "            Your task is to identify the following information and convert it into JSON object with these key:\n",
        "            - job_position: string, the job position which the candidate is applying for.\n",
        "            - company_name: string, the company name which the candidate is applying for.\n",
        "            - candidate_name: string, the name and surname of the candidate.\n",
        "            Answer in the form of JSON object.\n",
        "            \"\"\"\n",
        "        ),\n",
        "        (\n",
        "            \"user\", \"{email}\"\n",
        "        )\n",
        "    ]\n",
        ")\n",
        "\n",
        "parser = JsonOutputParser()\n",
        "screen_chain = prompt_template | model | parser\n",
        "\n",
        "screen_chain.invoke({\"email\": mock_email})"
      ]
    },
    {
      "cell_type": "markdown",
      "id": "78d83fa9",
      "metadata": {
        "id": "78d83fa9"
      },
      "source": [
        "## Building decision logic"
      ]
    },
    {
      "cell_type": "code",
      "execution_count": null,
      "id": "dc696f94",
      "metadata": {
        "ExecuteTime": {
          "end_time": "2024-06-06T16:21:04.483662Z",
          "start_time": "2024-06-06T16:21:04.481001Z"
        },
        "id": "dc696f94"
      },
      "outputs": [],
      "source": [
        "def clean(text):\n",
        "    return text.lower().strip().replace(\" \", \"\")\n",
        "\n",
        "opening_positions = [\n",
        "    \"Frontend Developer\",\n",
        "    \"Backend Developer\",\n",
        "    \"AI Developer\",\n",
        "    \"Blockchain Developer\"\n",
        "]\n",
        "opening_positions = set([clean(e) for e in opening_positions])\n",
        "\n",
        "def make_decision(candidate_data):\n",
        "    criteria_1 = clean(candidate_data[\"job_position\"]) in opening_positions\n",
        "    criteria_2 = clean(candidate_data[\"company_name\"]) == clean(\"KBTG\")\n",
        "\n",
        "    return criteria_1 and criteria_2\n",
        "\n",
        "def screen_email(email):\n",
        "    candidate_data = screen_chain.invoke({\"email\": email})\n",
        "    is_pass = make_decision(candidate_data)\n",
        "    if is_pass:\n",
        "        return \"pass\"\n",
        "\n",
        "    return \"failed\""
      ]
    },
    {
      "cell_type": "code",
      "execution_count": null,
      "id": "ec6856e1",
      "metadata": {
        "ExecuteTime": {
          "end_time": "2024-06-06T16:21:07.288279Z",
          "start_time": "2024-06-06T16:21:06.006794Z"
        },
        "collapsed": true,
        "id": "ec6856e1"
      },
      "outputs": [],
      "source": [
        "fe_email = mock_email\n",
        "screen_email(fe_email)"
      ]
    },
    {
      "cell_type": "code",
      "execution_count": null,
      "id": "7a3eff51",
      "metadata": {
        "ExecuteTime": {
          "end_time": "2024-06-06T16:21:14.118365Z",
          "start_time": "2024-06-06T16:21:12.770117Z"
        },
        "collapsed": true,
        "id": "7a3eff51"
      },
      "outputs": [],
      "source": [
        "chef_email = \"\"\"\n",
        "Dear Hiring Manager,\n",
        "\n",
        "    I am writing to express my interest in the Head Chef position at KBTG. With over 15 years of culinary experience, including 5 years as Executive Chef at renowned restaurants, I am confident in my ability to contribute to your esteemed establishment.\n",
        "My expertise in diverse cuisines, team leadership, and innovative menu development align well with the vision of KBTG. I am excited about the opportunity to bring my passion for culinary excellence to your team.\n",
        "Please find my resume attached for your review. I look forward to the possibility of discussing how my background, skills, and certifications can be an asset to KBTG.\n",
        "Thank you for considering my application.\n",
        "\n",
        "Sincerely,\n",
        "Aroii Dee\n",
        "\"\"\"\n",
        "\n",
        "screen_email(chef_email)"
      ]
    },
    {
      "cell_type": "markdown",
      "id": "4551af24",
      "metadata": {
        "id": "4551af24"
      },
      "source": [
        "## Complete response email draft by ChatGPT"
      ]
    },
    {
      "cell_type": "code",
      "execution_count": null,
      "id": "6fab2f11",
      "metadata": {
        "id": "6fab2f11"
      },
      "outputs": [],
      "source": [
        "model = ChatOpenAI(model=\"gpt-3.5-turbo\", temperature=1.0)\n",
        "prompt_template = ChatPromptTemplate.from_messages(\n",
        "    [\n",
        "        (\n",
        "            \"system\",\n",
        "            \"\"\"\n",
        "            You are Hiring Manager named \"Khunthong Smith\".\n",
        "            Your task is to write an email response to candidate job application.\n",
        "            \"\"\"\n",
        "        ),\n",
        "        (\n",
        "            \"user\", \"Write the response email in formal English langauge which notify candidate named \\\"{candidate_name}\\\" that they \\\"{result}\\\"\"\n",
        "        )\n",
        "    ]\n",
        ")\n",
        "\n",
        "parser = StrOutputParser()\n",
        "email_generation_chain = prompt_template | model | parser\n",
        "\n",
        "def screen_email(email):\n",
        "    candidate_data = screen_chain.invoke({\"email\": email})\n",
        "    is_pass = make_decision(candidate_data)\n",
        "\n",
        "    return email_generation_chain.invoke({\"candidate_name\": candidate_data, \"result\": \"pass\" if is_pass else \"not pass\"})"
      ]
    },
    {
      "cell_type": "code",
      "source": [
        "screen_email(fe_email)"
      ],
      "metadata": {
        "id": "ksgqdbekTRm9"
      },
      "id": "ksgqdbekTRm9",
      "execution_count": null,
      "outputs": []
    },
    {
      "cell_type": "code",
      "source": [
        "screen_email(chef_email)"
      ],
      "metadata": {
        "id": "9bJz_qsbTiKD"
      },
      "id": "9bJz_qsbTiKD",
      "execution_count": null,
      "outputs": []
    },
    {
      "cell_type": "markdown",
      "id": "542dd3d4",
      "metadata": {
        "id": "542dd3d4"
      },
      "source": [
        "## Add support for multi language"
      ]
    },
    {
      "cell_type": "code",
      "execution_count": null,
      "id": "0532bf41",
      "metadata": {
        "ExecuteTime": {
          "end_time": "2024-06-06T16:59:14.361793Z",
          "start_time": "2024-06-06T16:59:14.348958Z"
        },
        "id": "0532bf41"
      },
      "outputs": [],
      "source": [
        "model = ChatOpenAI(model=\"gpt-3.5-turbo\", temperature=1.0)\n",
        "prompt_template = ChatPromptTemplate.from_messages(\n",
        "    [\n",
        "        (\n",
        "            \"system\",\n",
        "            \"\"\"\n",
        "            You are Professional Translator.\n",
        "            Your task is to identify the original langauge and translate content into standard English language.\n",
        "            answer as JSON object with the following keys:\n",
        "            - translated_content: string, a content translated in to standard English.\n",
        "            - original_langauge_name: string, a language name of the given content.\n",
        "            \"\"\"\n",
        "        ),\n",
        "        (\n",
        "            \"user\",\n",
        "            \"{email}\"\n",
        "        )\n",
        "    ]\n",
        ")\n",
        "\n",
        "parser = JsonOutputParser()\n",
        "input_translator_chain = prompt_template | model | parser"
      ]
    },
    {
      "cell_type": "code",
      "execution_count": null,
      "id": "6e0a51cc",
      "metadata": {
        "ExecuteTime": {
          "end_time": "2024-06-06T17:00:44.188793Z",
          "start_time": "2024-06-06T17:00:36.266814Z"
        },
        "collapsed": true,
        "id": "6e0a51cc"
      },
      "outputs": [],
      "source": [
        "th_email = \"\"\"\n",
        "เรียน ผู้จัดการฝ่ายบุคคล,\n",
        "\n",
        "    ข้าพเจ้าเขียนจดหมายนี้เพื่อแสดงความสนใจในการสมัครตำแหน่งหัวหน้าเชฟที่บริษัท KBTG ด้วยประสบการณ์การทำงานด้านการทำอาหารมากกว่า 15 ปี รวมถึงการเป็นเชฟบริหารในร้านอาหารชื่อดังมานานกว่า 5 ปี ข้าพเจ้าเชื่อมั่นในความสามารถที่จะนำพาความสำเร็จมาสู่สถานประกอบการของท่าน\n",
        "ความเชี่ยวชาญของข้าพเจ้าในอาหารหลากหลายประเภท ความสามารถในการนำทีม และการพัฒนาเมนูที่นวัตกรรมตรงกับวิสัยทัศน์ของ KBTG ข้าพเจ้ารู้สึกตื่นเต้นกับโอกาสที่จะนำความหลงใหลในการทำอาหารที่ยอดเยี่ยมมาสู่ทีมของท่าน\n",
        "กรุณาพิจารณาประวัติการทำงานที่แนบมานี้ ข้าพเจ้าหวังเป็นอย่างยิ่งว่าจะได้พูดคุยเกี่ยวกับวิธีการที่ประสบการณ์ ทักษะ และใบรับรองต่างๆ ของข้าพเจ้าจะสามารถเป็นประโยชน์ต่อ KBTG\n",
        "ขอขอบพระคุณที่พิจารณาการสมัครของข้าพเจ้า\n",
        "\n",
        "ขอแสดงความนับถือ\n",
        "อร่อย ดี\n",
        "\"\"\"\n",
        "\n",
        "input_translator_chain.invoke({\"email\": th_email})"
      ]
    },
    {
      "cell_type": "code",
      "source": [
        "jp_email = \"\"\"\n",
        "採用担当者様\n",
        "\n",
        "    この度、KBTGのヘッドシェフ職に応募させていただきたく、メールをお送りいたしました。15年以上の料理経験と、名高いレストランでの5年間のエグゼクティブシェフとしての経験を持つ私が、御社に貢献できると確信しております。\n",
        "多様な料理の専門知識、チームリーダーシップ、革新的なメニュー開発のスキルは、KBTGのビジョンに合致していると考えております。料理の卓越性に対する私の情熱を御社のチームに活かせる機会を大変楽しみにしております。\n",
        "添付した履歴書をご覧いただければ幸いです。私の経歴、スキル、および資格がKBTGにとってどのように役立つかを話し合う機会をいただけることを楽しみにしております。\n",
        "ご検討の程、よろしくお願い申し上げます。\n",
        "\n",
        "敬具\n",
        "アロイ・ディー\n",
        "\"\"\"\n",
        "\n",
        "input_translator_chain.invoke({\"email\": jp_email})"
      ],
      "metadata": {
        "id": "spi8tAVYUJOr"
      },
      "id": "spi8tAVYUJOr",
      "execution_count": null,
      "outputs": []
    },
    {
      "cell_type": "code",
      "source": [
        "model = ChatOpenAI(model=\"gpt-3.5-turbo\", temperature=1.0)\n",
        "prompt_template = ChatPromptTemplate.from_messages(\n",
        "    [\n",
        "        (\n",
        "            \"system\",\n",
        "            \"\"\"\n",
        "            You are Hiring Manager named \"Khunthong Smith\".\n",
        "            Your task is to write an email response to candidate job application.\n",
        "            \"\"\"\n",
        "        ),\n",
        "        (\n",
        "            \"user\", \"Write the response email in formal {output_language} langauge which notify candidate named \\\"{candidate_name}\\\" that they \\\"{result}\\\"\"\n",
        "        )\n",
        "    ]\n",
        ")\n",
        "\n",
        "parser = StrOutputParser()\n",
        "email_generation_chain = prompt_template | model | parser\n",
        "\n",
        "def screen_email(email):\n",
        "    translation = input_translator_chain.invoke({\"email\": email})\n",
        "    eng_email_content = translation[\"translated_content\"]\n",
        "\n",
        "    candidate_data = screen_chain.invoke({\"email\": eng_email_content})\n",
        "    is_pass = make_decision(candidate_data)\n",
        "\n",
        "    return email_generation_chain.invoke({\n",
        "        \"candidate_name\": candidate_data,\n",
        "        \"result\": \"pass\" if is_pass else \"not pass\",\n",
        "        \"output_language\": translation[\"original_language_name\"]\n",
        "    })"
      ],
      "metadata": {
        "id": "8uF-Mng5U8VE"
      },
      "id": "8uF-Mng5U8VE",
      "execution_count": null,
      "outputs": []
    },
    {
      "cell_type": "code",
      "source": [
        "screen_email(th_email)"
      ],
      "metadata": {
        "collapsed": true,
        "id": "-6SMzV99VMMi"
      },
      "id": "-6SMzV99VMMi",
      "execution_count": null,
      "outputs": []
    },
    {
      "cell_type": "code",
      "source": [
        "screen_email(jp_email)"
      ],
      "metadata": {
        "id": "VCgNBC9SVoIm"
      },
      "id": "VCgNBC9SVoIm",
      "execution_count": null,
      "outputs": []
    },
    {
      "cell_type": "code",
      "source": [
        "th_pass_email = \"\"\"\n",
        "    สวัสดีครับ ผมชื่อ กสิกร รักไทย ผมสนใจสมัครงานตำแหน่ง Frontend Developer ที่ KBTG ด้วยประสบการณ์ทำงานด้านการพัฒนาเว็บมากกว่า 3 ปี และปริญญาตรีสาขาวิทยาการคอมพิวเตอร์จากจุฬาลงกรณ์มหาวิทยาลัย ผมมั่นใจว่าสามารถนำทักษะของผมมาช่วยเสริมทีมของคุณได้อย่างแน่นอน\n",
        "ผมมีความเชี่ยวชาญใน HTML, CSS, JavaScript และเฟรมเวิร์กต่างๆ เช่น React.js และ Angular ขณะทำงานที่ [บริษัทปัจจุบันหรือที่ทำงานเก่า] ผมได้เป็นผู้นำในการออกแบบเว็บไซต์ใหม่ที่ช่วยเพิ่มการมีส่วนร่วมของผู้ใช้ขึ้น 30% และอัตราการเปลี่ยนแปลงขึ้น 20%\n",
        "ผมรู้สึกตื่นเต้นมากกับการที่ KBTG มุ่งมั่นที่จะใช้เทคโนโลยีล้ำสมัยเพื่อสร้างนวัตกรรมใหม่ ๆ ผมอยากจะนำทักษะของผมมาช่วยทีมของคุณให้ก้าวไปข้างหน้า เอกสารประวัติของผมแนบมาด้วยเพื่อให้คุณพิจารณา ผมพร้อมที่จะเข้าสัมภาษณ์ในเวลาที่คุณสะดวก สามารถติดต่อผมได้ที่ [เบอร์โทรศัพท์] หรือ [อีเมล]\n",
        "ขอขอบคุณที่พิจารณาใบสมัครของผม\n",
        "\n",
        "ด้วยความเคารพ\n",
        "กสิกร รักไทย\n",
        "\"\"\"\n",
        "\n",
        "screen_email(th_pass_email)"
      ],
      "metadata": {
        "id": "b1NZzoWlVy6v"
      },
      "id": "b1NZzoWlVy6v",
      "execution_count": null,
      "outputs": []
    }
  ],
  "metadata": {
    "kernelspec": {
      "display_name": "Python 3 (ipykernel)",
      "language": "python",
      "name": "python3"
    },
    "language_info": {
      "codemirror_mode": {
        "name": "ipython",
        "version": 3
      },
      "file_extension": ".py",
      "mimetype": "text/x-python",
      "name": "python",
      "nbconvert_exporter": "python",
      "pygments_lexer": "ipython3",
      "version": "3.11.0"
    },
    "toc": {
      "base_numbering": 1,
      "nav_menu": {},
      "number_sections": true,
      "sideBar": true,
      "skip_h1_title": false,
      "title_cell": "Table of Contents",
      "title_sidebar": "Contents",
      "toc_cell": false,
      "toc_position": {},
      "toc_section_display": true,
      "toc_window_display": false
    },
    "colab": {
      "provenance": []
    }
  },
  "nbformat": 4,
  "nbformat_minor": 5
}