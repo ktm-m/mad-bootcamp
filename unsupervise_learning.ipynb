{
  "nbformat": 4,
  "nbformat_minor": 0,
  "metadata": {
    "colab": {
      "provenance": []
    },
    "kernelspec": {
      "name": "python3",
      "display_name": "Python 3"
    },
    "language_info": {
      "name": "python"
    }
  },
  "cells": [
    {
      "cell_type": "markdown",
      "source": [
        "***This notebook is a part of chapter 4.5***"
      ],
      "metadata": {
        "id": "-mkXsB6zckjn"
      }
    },
    {
      "cell_type": "markdown",
      "source": [
        "# 1. Make dataset for unsupervised learning"
      ],
      "metadata": {
        "id": "8vs_q7TvcpRe"
      }
    },
    {
      "cell_type": "code",
      "source": [
        "# Import necessary libraries\n",
        "import numpy as np\n",
        "import pandas as pd\n",
        "import matplotlib.pyplot as plt\n",
        "import seaborn as sns\n",
        "from sklearn.datasets import make_blobs\n",
        "from sklearn.cluster import KMeans\n",
        "from sklearn.metrics import silhouette_score\n",
        "\n",
        "# Generate random data\n",
        "X, y_true = make_blobs(n_samples=1000, centers=4, n_features=2, random_state=42, cluster_std=1.5)\n",
        "\n",
        "# Convert to DataFrame for better visualization\n",
        "data = pd.DataFrame(X, columns=['Feature1', 'Feature2'])\n",
        "\n",
        "# Display first few rows of the dataset\n",
        "print(\"Unsupervised Learning Dataset:\")\n",
        "print(data.head())\n"
      ],
      "metadata": {
        "id": "TzuvO4rTcobt"
      },
      "execution_count": null,
      "outputs": []
    },
    {
      "cell_type": "markdown",
      "source": [
        "#2. Visualize some informative data from this dataset"
      ],
      "metadata": {
        "id": "_u2d67aPc_J5"
      }
    },
    {
      "cell_type": "code",
      "source": [
        "plt.figure(figsize=(10, 6))\n",
        "plt.scatter(data['Feature1'], data['Feature2'], c='blue', marker='o', edgecolor='black', s=50)\n",
        "plt.title('Scatter Plot of Unsupervised Learning Dataset')\n",
        "plt.xlabel('Feature1')\n",
        "plt.ylabel('Feature2')\n",
        "plt.show()"
      ],
      "metadata": {
        "id": "m8JOPVe6dCik"
      },
      "execution_count": null,
      "outputs": []
    },
    {
      "cell_type": "markdown",
      "source": [
        "#3. Find optimal $k$ using the Elbow method"
      ],
      "metadata": {
        "id": "7p5AyIQMdHlp"
      }
    },
    {
      "cell_type": "code",
      "source": [
        "wcss = []  # Within-cluster sum of squares\n",
        "for k in range(1, 11):\n",
        "    kmeans = KMeans(n_clusters=k, random_state=42, n_init='auto')\n",
        "    kmeans.fit(X)\n",
        "    wcss.append(kmeans.inertia_)\n",
        "# inertia: range between each cluster, it mean ablility to split data\n",
        "# select to point where the graph break, that is optimal k\n",
        "\n",
        "# Plot the Elbow graph\n",
        "plt.figure(figsize=(10, 6))\n",
        "plt.plot(range(1, 11), wcss, marker='o')\n",
        "plt.title('Elbow Method for Optimal k')\n",
        "plt.xlabel('Number of clusters')\n",
        "plt.ylabel('WCSS')\n",
        "plt.show()"
      ],
      "metadata": {
        "id": "izgqt6a0dOdA"
      },
      "execution_count": null,
      "outputs": []
    },
    {
      "cell_type": "markdown",
      "source": [
        "#4. Solve the problem using KMeans clustering with optimal $k$"
      ],
      "metadata": {
        "id": "feYka52-dva6"
      }
    },
    {
      "cell_type": "code",
      "source": [
        "# Based on the elbow method, let's choose k=4\n",
        "optimal_k = 4\n",
        "kmeans = KMeans(n_clusters=optimal_k, random_state=42, n_init='auto')\n",
        "y_kmeans = kmeans.fit_predict(X)\n",
        "\n",
        "# Calculate silhouette score: show clustering performance\n",
        "silhouette_avg = silhouette_score(X, y_kmeans) # high is good, max is 1\n",
        "print(f\"Silhouette Score for k={optimal_k}: {silhouette_avg}\")"
      ],
      "metadata": {
        "id": "hSZQgpuLd0M6"
      },
      "execution_count": null,
      "outputs": []
    },
    {
      "cell_type": "markdown",
      "source": [
        "## Silhouette score\n",
        "For data point $i\\in C_I$ (data point i in the cluster $C_I$), let\n",
        "$$a(i)=\\frac{1}{|C_I|-1}\\sum_{j\\in C_I, i\\neq j} d(i,j)$$\n",
        "\n",
        "be the mean distance between $i$ and all other data points in the same cluster, where $|C_{I}|$ is the number of points belonging to cluster $|C_{I}|$, and $d(i,j)$ is the distance between data points $i$ and $j$ in the cluster $|C_{I}|$\n",
        "\n",
        "For each data point $i\\in C_I$, we now define\n",
        "$$b(i)=\\min_{J\\neq I} \\frac{1}{|C_J|} \\sum_{j\\in C_J}d(i,j)$$\n",
        "\n",
        "to be the smallest mean distance of $i$ to all points in any other cluster.\n",
        "\n",
        "A **silhouette** (value) of one data point $i$,\n",
        "$$s(i)=\\begin{cases}\n",
        " 1-\\frac{a(i)}{b(i)}& \\text{ if } a(i)<b(i) \\\\\n",
        " 0& \\text{ if } a(i)=b(i) \\\\\n",
        " \\frac{b(i)}{a(i)}-1& \\text{ if } a(i)>b(i)\n",
        "\\end{cases}\n",
        "$$\n",
        "\n",
        "We will define average of silhouette score as performance of grouping data.\n",
        "\n",
        "**Rule of thumb**\n",
        "1. Average of silhouette score > 0.7: *strong*\n",
        "2. Average of silhouette score between 0.5 and 0.7: *reasonable*\n",
        "3. Average of silhouette score between 0.25 and 0.5: *weak*\n",
        "\n"
      ],
      "metadata": {
        "id": "GEywq7m9fBZ8"
      }
    },
    {
      "cell_type": "markdown",
      "source": [
        "# 5. Interpret results"
      ],
      "metadata": {
        "id": "NsqOA9Nth-X7"
      }
    },
    {
      "cell_type": "code",
      "execution_count": null,
      "metadata": {
        "id": "Wvsi_BwmHHaH"
      },
      "outputs": [],
      "source": [
        "# Add cluster labels to the dataframe\n",
        "data['Cluster'] = y_kmeans\n",
        "\n",
        "# Plot the clusters\n",
        "plt.figure(figsize=(10, 6))\n",
        "sns.scatterplot(x='Feature1', y='Feature2', hue='Cluster', data=data, palette='viridis', marker='o', edgecolor='black', s=100)\n",
        "plt.title('KMeans Clustering Results')\n",
        "plt.xlabel('Feature1')\n",
        "plt.ylabel('Feature2')\n",
        "plt.legend(title='Cluster')\n",
        "plt.show()\n",
        "\n",
        "# Plot the cluster centers\n",
        "centers = kmeans.cluster_centers_\n",
        "plt.figure(figsize=(10, 6))\n",
        "plt.scatter(data['Feature1'], data['Feature2'], c=y_kmeans, cmap='viridis', marker='o', edgecolor='black', s=50, alpha=0.6)\n",
        "plt.scatter(centers[:, 0], centers[:, 1], c='red', marker='X', s=200, label='Centers')\n",
        "plt.title('KMeans Clustering with Centers')\n",
        "plt.xlabel('Feature1')\n",
        "plt.ylabel('Feature2')\n",
        "plt.legend()\n",
        "plt.show()"
      ]
    },
    {
      "cell_type": "markdown",
      "source": [
        "# Another K"
      ],
      "metadata": {
        "id": "dR-TDwSkzGjC"
      }
    },
    {
      "cell_type": "code",
      "source": [
        "# Based on the elbow method, let's choose k=3\n",
        "optimal_k = 3\n",
        "kmeans = KMeans(n_clusters=optimal_k, random_state=42, n_init='auto')\n",
        "y_kmeans = kmeans.fit_predict(X)\n",
        "\n",
        "# Calculate silhouette score\n",
        "silhouette_avg = silhouette_score(X, y_kmeans)\n",
        "print(f\"Silhouette Score for k={optimal_k}: {silhouette_avg}\")"
      ],
      "metadata": {
        "id": "ciKbakMzzEmi"
      },
      "execution_count": null,
      "outputs": []
    },
    {
      "cell_type": "code",
      "source": [
        "# Add cluster labels to the dataframe\n",
        "data['Cluster'] = y_kmeans\n",
        "\n",
        "# Plot the clusters\n",
        "plt.figure(figsize=(10, 6))\n",
        "sns.scatterplot(x='Feature1', y='Feature2', hue='Cluster', data=data, palette='viridis', marker='o', edgecolor='black', s=100)\n",
        "plt.title('KMeans Clustering Results')\n",
        "plt.xlabel('Feature1')\n",
        "plt.ylabel('Feature2')\n",
        "plt.legend(title='Cluster')\n",
        "plt.show()\n",
        "\n",
        "# Plot the cluster centers\n",
        "centers = kmeans.cluster_centers_\n",
        "plt.figure(figsize=(10, 6))\n",
        "plt.scatter(data['Feature1'], data['Feature2'], c=y_kmeans, cmap='viridis', marker='o', edgecolor='black', s=50, alpha=0.6)\n",
        "plt.scatter(centers[:, 0], centers[:, 1], c='red', marker='X', s=200, label='Centers')\n",
        "plt.title('KMeans Clustering with Centers')\n",
        "plt.xlabel('Feature1')\n",
        "plt.ylabel('Feature2')\n",
        "plt.legend()\n",
        "plt.show()"
      ],
      "metadata": {
        "id": "xG5CNskBzLrL"
      },
      "execution_count": null,
      "outputs": []
    }
  ]
}