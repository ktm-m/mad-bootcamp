{
  "cells": [
    {
      "cell_type": "markdown",
      "id": "48e4fdac",
      "metadata": {
        "id": "48e4fdac"
      },
      "source": [
        "# OpenAI Basics"
      ]
    },
    {
      "cell_type": "code",
      "execution_count": null,
      "id": "b9075aa5",
      "metadata": {
        "id": "b9075aa5"
      },
      "outputs": [],
      "source": [
        "!pip install -q requests == 2.32.3\n",
        "!pip install -q openai == 1.41.1"
      ]
    },
    {
      "cell_type": "code",
      "source": [
        "import requests\n",
        "import json\n",
        "\n",
        "from openai import OpenAI\n",
        "from google.colab import userdata"
      ],
      "metadata": {
        "id": "HQLgNxu8fZcd"
      },
      "id": "HQLgNxu8fZcd",
      "execution_count": null,
      "outputs": []
    },
    {
      "cell_type": "markdown",
      "id": "3a84e8a5",
      "metadata": {
        "id": "3a84e8a5"
      },
      "source": [
        "## Task1: Generate OpenAI key\n",
        "\n",
        "Generate key from: https://platform.openai.com/api-keys"
      ]
    },
    {
      "cell_type": "code",
      "execution_count": null,
      "id": "ec1a2405",
      "metadata": {
        "ExecuteTime": {
          "end_time": "2024-05-30T15:15:24.883131Z",
          "start_time": "2024-05-30T15:15:24.881484Z"
        },
        "id": "ec1a2405"
      },
      "outputs": [],
      "source": [
        "OPENAI_API_KEY = userdata.get(\"OPENAI_API_KEY\")\n",
        "model = 'gpt-3.5-turbo'\n",
        "messages = [\n",
        "        {'role': 'system', 'content': 'You are a helpful assistant.'}, # system prompt\n",
        "        {'role': 'user', 'content': 'Hello!'} # user prompt\n",
        "    ]"
      ]
    },
    {
      "cell_type": "markdown",
      "id": "2252c064",
      "metadata": {
        "id": "2252c064"
      },
      "source": [
        "## Task2: Call OpenAI using requests lib"
      ]
    },
    {
      "cell_type": "code",
      "execution_count": null,
      "id": "31c0f2ba",
      "metadata": {
        "ExecuteTime": {
          "end_time": "2024-05-30T15:15:27.618916Z",
          "start_time": "2024-05-30T15:15:26.325181Z"
        },
        "collapsed": true,
        "id": "31c0f2ba"
      },
      "outputs": [],
      "source": [
        "url = 'https://api.openai.com/v1/chat/completions'\n",
        "headers = {\n",
        "    'Authorization': f'Bearer {OPENAI_API_KEY}',\n",
        "    'Content-Type': 'application/json'\n",
        "}\n",
        "\n",
        "body = {\n",
        "    'model': model,\n",
        "    'messages': messages\n",
        "}\n",
        "\n",
        "body_json = json.dumps(body)\n",
        "response = requests.post(url = url, headers = headers, body = body_json)\n",
        "print(f'resp status code: {response.status_code}, resp body: {response.json()}')"
      ]
    },
    {
      "cell_type": "markdown",
      "id": "545349e3",
      "metadata": {
        "id": "545349e3"
      },
      "source": [
        "## Task3: Call OpenAI using OpenAI Python library"
      ]
    },
    {
      "cell_type": "code",
      "execution_count": null,
      "id": "2e7f82f1",
      "metadata": {
        "ExecuteTime": {
          "end_time": "2024-05-30T15:17:23.104931Z",
          "start_time": "2024-05-30T15:17:23.103055Z"
        },
        "id": "2e7f82f1"
      },
      "outputs": [],
      "source": [
        "client = OpenAI(api_key = OPENAI_API_KEY)\n",
        "completion = client.chat.completions.create(\n",
        "    model = model,\n",
        "    messages = messages,\n",
        "    temperature = 0 # default = 1\n",
        ")\n",
        "\n",
        "print(completion.choices[0].message)"
      ]
    },
    {
      "cell_type": "markdown",
      "id": "76bc2c87",
      "metadata": {
        "id": "76bc2c87"
      },
      "source": [
        "## Task4: Building basic LLM App\n",
        "\n",
        "### 4.1: Reviews Tagging Application\n",
        "\n",
        "This application will automatically analyze and tag customer reviews based on their content, providing valuable insights for businesses."
      ]
    },
    {
      "cell_type": "code",
      "execution_count": null,
      "id": "ebe3c538",
      "metadata": {
        "ExecuteTime": {
          "end_time": "2024-05-30T15:38:49.657541Z",
          "start_time": "2024-05-30T15:38:49.654689Z"
        },
        "id": "ebe3c538"
      },
      "outputs": [],
      "source": [
        "system_prompts = \"\"\"\n",
        "You will be presented with user reviews and your job is to provide a set of tags from the following list.\n",
        "Provide your answer in json format with key \"tags\" and value is a set of tags. Choose ONLY from the list of tags provided here\n",
        "(choose either the positive or the negative tag but NOT both):\n",
        "  - Provides good value for the price OR Costs too much\n",
        "  - Works better than expected OR Did not work as well as expected\n",
        "  - Includes essential features OR Lacks essential features\n",
        "  - Easy to use OR Difficult to use\n",
        "  - High quality and durability OR Poor quality and durability\n",
        "  - Easy and affordable to maintain or repair OR Difficult or costly to maintain or repair\n",
        "  - Easy to transport OR Difficult to transport\n",
        "  - Easy to store OR Difficult to store\n",
        "  - Compatible with other devices or systems OR Not compatible with other devices or systems\n",
        "  - Safe and user-friendly OR Unsafe or hazardous to use\n",
        "  - Excellent customer support OR Poor customer support\n",
        "  - Generous and comprehensive warranty OR Limited or insufficient warranty\n",
        "\"\"\"\n",
        "\n",
        "def analyze_review(text):\n",
        "    response = client.chat.completions.create(\n",
        "        model = model,\n",
        "        messages=[\n",
        "            {'role': 'system', 'content': [{'type': 'text', 'text': system_prompts}]},\n",
        "            {'role': 'user', 'content': [{'type': 'text', 'text': text}]}\n",
        "        ],\n",
        "        temperature = 0,\n",
        "        max_tokens = 256,\n",
        "        top_p = 1,\n",
        "        frequency_penalty = 0,\n",
        "        presence_penalty = 0,\n",
        "        response_format = {'type': 'text'}\n",
        "    )\n",
        "\n",
        "    return json.loads(response.choices[0].message.content)"
      ]
    },
    {
      "cell_type": "code",
      "source": [
        "analyze_review('The product is great, very easy to use!')"
      ],
      "metadata": {
        "id": "dB-k0_QmNrIg"
      },
      "id": "dB-k0_QmNrIg",
      "execution_count": null,
      "outputs": []
    },
    {
      "cell_type": "markdown",
      "id": "1e58e7dc",
      "metadata": {
        "id": "1e58e7dc"
      },
      "source": [
        "### 4.2: ENG Language Level Augmenter Application\n",
        "\n",
        "This tool will allow users to convert text between different levels of formality"
      ]
    },
    {
      "cell_type": "code",
      "execution_count": null,
      "id": "1389afcf",
      "metadata": {
        "ExecuteTime": {
          "end_time": "2024-05-30T16:35:22.510033Z",
          "start_time": "2024-05-30T16:35:22.507179Z"
        },
        "id": "1389afcf"
      },
      "outputs": [],
      "source": [
        "style_prompts = {\n",
        "    'informal': 'Using informal words like talking to a friend.',\n",
        "    'ielts': 'Using very fancy words.',\n",
        "    'formal': 'Using formal words.',\n",
        "    'academic': 'Using academic words suitable for academic publications.',\n",
        "    'default': ''\n",
        "}\n",
        "\n",
        "def augment_sentence(text, style = \"default\"):\n",
        "    content = f'You will be provided with statements, and your task is to convert them to standard English. {style_prompts[style]}'\n",
        "    response = client.chat.completions.create(\n",
        "      model = model,\n",
        "      messages=[\n",
        "          {'role': 'system', 'content': content},\n",
        "          {'role': 'user', 'content': text}\n",
        "      ],\n",
        "      temperature=0.7,\n",
        "      max_tokens=64,\n",
        "      top_p=1\n",
        "    )\n",
        "\n",
        "    return response.choices[0].message.content"
      ]
    },
    {
      "cell_type": "code",
      "source": [
        "test_text = \"\"\"\n",
        "I am writing this email to apply for a job at KBTG in software developer position.\n",
        "I'm currently a student at 4 year univercity. I want this job very much.\n",
        "\"\"\"\n",
        "augment_sentence(test_text, style = 'formal')"
      ],
      "metadata": {
        "id": "JOuX0vPdPtAV"
      },
      "id": "JOuX0vPdPtAV",
      "execution_count": null,
      "outputs": []
    }
  ],
  "metadata": {
    "kernelspec": {
      "display_name": "Python 3 (ipykernel)",
      "language": "python",
      "name": "python3"
    },
    "language_info": {
      "codemirror_mode": {
        "name": "ipython",
        "version": 3
      },
      "file_extension": ".py",
      "mimetype": "text/x-python",
      "name": "python",
      "nbconvert_exporter": "python",
      "pygments_lexer": "ipython3",
      "version": "3.11.0"
    },
    "toc": {
      "base_numbering": 1,
      "nav_menu": {},
      "number_sections": true,
      "sideBar": true,
      "skip_h1_title": false,
      "title_cell": "Table of Contents",
      "title_sidebar": "Contents",
      "toc_cell": false,
      "toc_position": {},
      "toc_section_display": true,
      "toc_window_display": false
    },
    "colab": {
      "provenance": []
    }
  },
  "nbformat": 4,
  "nbformat_minor": 5
}