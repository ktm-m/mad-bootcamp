{
  "cells": [
    {
      "cell_type": "markdown",
      "metadata": {
        "id": "Fu__ckFEeGkj"
      },
      "source": [
        "***This notebook is a part of chapter 4.4***"
      ]
    },
    {
      "cell_type": "markdown",
      "metadata": {
        "id": "Vt_L6lRSe4gk"
      },
      "source": [
        "#1. Prepare classification dataset"
      ]
    },
    {
      "cell_type": "code",
      "execution_count": null,
      "metadata": {
        "id": "9641o-cae36l"
      },
      "outputs": [],
      "source": [
        "# Import necessary libraries\n",
        "import numpy as np\n",
        "import pandas as pd\n",
        "import matplotlib.pyplot as plt\n",
        "from sklearn.datasets import make_classification\n",
        "from sklearn.model_selection import train_test_split\n",
        "from sklearn.linear_model import LogisticRegression\n",
        "from sklearn.tree import DecisionTreeClassifier\n",
        "from sklearn.neural_network import MLPClassifier\n",
        "from sklearn.metrics import accuracy_score, classification_report, confusion_matrix\n",
        "import seaborn as sns\n",
        "\n",
        "# Step 1: Create an example dataset for classification problems\n",
        "X, y = make_classification(n_samples=200, n_features=10, n_informative=2, n_redundant=5, random_state=42)\n",
        "\n",
        "# Split the dataset into training and testing sets\n",
        "# X_train, X_test, y_train, y_test = train_test_split(X, y, test_size=0.2, random_state=42)"
      ]
    },
    {
      "cell_type": "code",
      "execution_count": null,
      "metadata": {
        "id": "NR_1D7mjfbF7"
      },
      "outputs": [],
      "source": [
        "df = pd.DataFrame(X,columns=[f'col_{i}' for i in range(10)])\n",
        "df.loc[:,'label'] = y"
      ]
    },
    {
      "cell_type": "code",
      "source": [
        "df.head()"
      ],
      "metadata": {
        "id": "bslellNgw8dV"
      },
      "execution_count": null,
      "outputs": []
    },
    {
      "cell_type": "code",
      "execution_count": null,
      "metadata": {
        "id": "nhKGBvANfDJ7"
      },
      "outputs": [],
      "source": [
        "# this visualization take time aroung 2-3 minutes.\n",
        "sns.pairplot(df,hue='label') # can show some feature that affect to label\n",
        "# focus on destribution that can clearly sperated data from each other"
      ]
    },
    {
      "cell_type": "markdown",
      "metadata": {
        "id": "iZfRGr6tnAiq"
      },
      "source": [
        "#2. Logistic regression"
      ]
    },
    {
      "cell_type": "code",
      "source": [
        "logistic_model = LogisticRegression(max_iter=1000)\n",
        "logistic_model.fit(X, y)\n",
        "y_pred_logistic = logistic_model.predict(X)\n",
        "\n",
        "# Evaluate Logistic Regression\n",
        "accuracy_logistic = accuracy_score(y, y_pred_logistic)\n",
        "print(\"Logistic Regression Accuracy:\", accuracy_logistic)\n",
        "print(\"Classification Report for Logistic Regression:\\n\", classification_report(y, y_pred_logistic))\n",
        "print(\"Confusion Matrix for Logistic Regression:\\n\", confusion_matrix(y, y_pred_logistic))\n"
      ],
      "metadata": {
        "id": "RjaSL4UhZV7U"
      },
      "execution_count": null,
      "outputs": []
    },
    {
      "cell_type": "markdown",
      "metadata": {
        "id": "jirU9r76nG-d"
      },
      "source": [
        "#3. Decision tree"
      ]
    },
    {
      "cell_type": "code",
      "execution_count": null,
      "metadata": {
        "id": "GL-2hR6UnNaM"
      },
      "outputs": [],
      "source": [
        "tree_model = DecisionTreeClassifier(random_state=42,max_depth=3)\n",
        "tree_model.fit(X, y)\n",
        "y_pred_tree = tree_model.predict(X)\n",
        "\n",
        "# Evaluate Decision Tree\n",
        "accuracy_tree = accuracy_score(y, y_pred_tree)\n",
        "print(\"\\nDecision Tree Accuracy:\", accuracy_tree)\n",
        "print(\"Classification Report for Decision Tree:\\n\", classification_report(y, y_pred_tree))\n",
        "print(\"Confusion Matrix for Decision Tree:\\n\", confusion_matrix(y, y_pred_tree))\n"
      ]
    },
    {
      "cell_type": "markdown",
      "metadata": {
        "id": "0TCQD5DlnRia"
      },
      "source": [
        "#4. Neural network"
      ]
    },
    {
      "cell_type": "code",
      "execution_count": null,
      "metadata": {
        "id": "8TODqkjgnWzS"
      },
      "outputs": [],
      "source": [
        "nn_model = MLPClassifier(hidden_layer_sizes=(20,), max_iter=500, random_state=42)\n",
        "nn_model.fit(X, y)\n",
        "y_pred_nn = nn_model.predict(X)\n",
        "\n",
        "# Evaluate Neural Network\n",
        "accuracy_nn = accuracy_score(y, y_pred_nn)\n",
        "print(\"\\nNeural Network Accuracy:\", accuracy_nn)\n",
        "print(\"Classification Report for Neural Network:\\n\", classification_report(y, y_pred_nn))\n",
        "print(\"Confusion Matrix for Neural Network:\\n\", confusion_matrix(y, y_pred_nn))"
      ]
    },
    {
      "cell_type": "markdown",
      "metadata": {
        "id": "vrpcDdTmnX0C"
      },
      "source": [
        "# 5. Compare model performances"
      ]
    },
    {
      "cell_type": "code",
      "execution_count": null,
      "metadata": {
        "id": "vO6SfOTAfP4z"
      },
      "outputs": [],
      "source": [
        "# Plot confusion matrices\n",
        "fig, axes = plt.subplots(1, 3, figsize=(18, 5))\n",
        "\n",
        "# Confusion matrix for Logistic Regression\n",
        "sns.heatmap(confusion_matrix(y, y_pred_logistic), annot=True, fmt='d', ax=axes[0], cmap='Blues')\n",
        "axes[0].set_title('Logistic Regression Confusion Matrix')\n",
        "axes[0].set_xlabel('Predicted')\n",
        "axes[0].set_ylabel('Actual')\n",
        "\n",
        "# Confusion matrix for Decision Tree\n",
        "sns.heatmap(confusion_matrix(y, y_pred_tree), annot=True, fmt='d', ax=axes[1], cmap='Blues')\n",
        "axes[1].set_title('Decision Tree Confusion Matrix')\n",
        "axes[1].set_xlabel('Predicted')\n",
        "axes[1].set_ylabel('Actual')\n",
        "\n",
        "# Confusion matrix for Neural Network\n",
        "sns.heatmap(confusion_matrix(y, y_pred_nn), annot=True, fmt='d', ax=axes[2], cmap='Blues')\n",
        "axes[2].set_title('Neural Network Confusion Matrix')\n",
        "axes[2].set_xlabel('Predicted')\n",
        "axes[2].set_ylabel('Actual')\n",
        "\n",
        "plt.tight_layout()\n",
        "plt.show()"
      ]
    }
  ],
  "metadata": {
    "colab": {
      "toc_visible": true,
      "provenance": []
    },
    "kernelspec": {
      "display_name": "Python 3",
      "name": "python3"
    },
    "language_info": {
      "name": "python"
    }
  },
  "nbformat": 4,
  "nbformat_minor": 0
}