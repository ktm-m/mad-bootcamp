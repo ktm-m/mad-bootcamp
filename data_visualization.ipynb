{
  "nbformat": 4,
  "nbformat_minor": 0,
  "metadata": {
    "colab": {
      "provenance": []
    },
    "kernelspec": {
      "name": "python3",
      "display_name": "Python 3"
    },
    "language_info": {
      "name": "python"
    }
  },
  "cells": [
    {
      "cell_type": "markdown",
      "source": [
        "***This notebook is a part of chapter 3.5***"
      ],
      "metadata": {
        "id": "qFsx75b5HC1C"
      }
    },
    {
      "cell_type": "code",
      "metadata": {
        "id": "XfVbCsrA0u_v"
      },
      "source": [
        "import pandas as pd\n",
        "import numpy as np\n",
        "import seaborn as sns\n",
        "import scipy as sc\n",
        "import matplotlib.pyplot as plt\n",
        "import altair as alt\n",
        "from sklearn.datasets import load_iris,load_wine,load_iris"
      ],
      "execution_count": null,
      "outputs": []
    },
    {
      "cell_type": "markdown",
      "metadata": {
        "id": "AWGtjq481FaP"
      },
      "source": [
        "#0. Load data"
      ]
    },
    {
      "cell_type": "code",
      "metadata": {
        "id": "YmSKRib92eOg"
      },
      "source": [
        "iris = load_iris()\n",
        "df_iris = pd.DataFrame(iris['data'], columns=iris['feature_names'])\n",
        "\n",
        "# create target_name column\n",
        "df_iris['target'] = iris['target']\n",
        "mapper_iris_target = {0:'setosa',1:'vesicolor',2:'virginica'}\n",
        "df_iris['target_name'] = df_iris['target'].map(mapper_iris_target) # map target with name"
      ],
      "execution_count": null,
      "outputs": []
    },
    {
      "cell_type": "code",
      "metadata": {
        "id": "FJh0LqYP4CV-"
      },
      "source": [
        "df_iris.head()"
      ],
      "execution_count": null,
      "outputs": []
    },
    {
      "cell_type": "markdown",
      "metadata": {
        "id": "RmVQUauQ1OaA"
      },
      "source": [
        "#1. Univariate visualization"
      ]
    },
    {
      "cell_type": "code",
      "metadata": {
        "id": "MmryO4AZ386W"
      },
      "source": [
        "df_iris_uni = df_iris['sepal length (cm)']"
      ],
      "execution_count": null,
      "outputs": []
    },
    {
      "cell_type": "code",
      "source": [
        "df_iris_uni"
      ],
      "metadata": {
        "id": "CMH7Tp3HTEid"
      },
      "execution_count": null,
      "outputs": []
    },
    {
      "cell_type": "markdown",
      "metadata": {
        "id": "Q0dOrD3n3vsp"
      },
      "source": [
        "##1.1 Box plot"
      ]
    },
    {
      "cell_type": "code",
      "source": [
        "# matplotlib\n",
        "plt.boxplot(df_iris_uni)"
      ],
      "metadata": {
        "id": "Rr7KG4uXqPvz"
      },
      "execution_count": null,
      "outputs": []
    },
    {
      "cell_type": "code",
      "source": [
        "# seaborn\n",
        "sns.boxplot(df_iris_uni)"
      ],
      "metadata": {
        "id": "L79OQPKfqHpN"
      },
      "execution_count": null,
      "outputs": []
    },
    {
      "cell_type": "code",
      "source": [
        "# altair: pros is try prevent anything that can cause doubt Ex. truncated graph\n",
        "boxplot = alt.Chart(df_iris_uni.to_frame()).mark_boxplot().encode(\n",
        "    alt.Y(\"sepal length (cm):Q\")\n",
        ")\n",
        "# to_frame(): convert dataset to dataframe\n",
        "boxplot"
      ],
      "metadata": {
        "id": "kyyCR3K6q5p0"
      },
      "execution_count": null,
      "outputs": []
    },
    {
      "cell_type": "markdown",
      "metadata": {
        "id": "kHbQsdEc5n5n"
      },
      "source": [
        "##1.2 Histogram plot"
      ]
    },
    {
      "cell_type": "code",
      "metadata": {
        "id": "wAMeoy6-8Jxy"
      },
      "source": [
        "plt.hist(df_iris_uni)"
      ],
      "execution_count": null,
      "outputs": []
    },
    {
      "cell_type": "code",
      "metadata": {
        "id": "OpJAv06A5tPe"
      },
      "source": [
        "# matplotlib\n",
        "plt.hist(df_iris_uni,bins=[4,4.5,5,5.5,6,6.5,7,7.5,8],density=True,rwidth=0.9)\n",
        "# bins is the number between the bar\n",
        "# inclue x, y label\n",
        "plt.xlabel('sepal length (cm)')\n",
        "plt.ylabel('count')"
      ],
      "execution_count": null,
      "outputs": []
    },
    {
      "cell_type": "code",
      "metadata": {
        "id": "KRSLdUY_59GQ"
      },
      "source": [
        "# seaborn\n",
        "sns.displot(df_iris_uni,bins=[4,4.5,5,5.5,6,6.5,7,7.5,8],kde=True)"
      ],
      "execution_count": null,
      "outputs": []
    },
    {
      "cell_type": "code",
      "metadata": {
        "id": "nuDUDWdw6FuF"
      },
      "source": [
        "# altair: fit according to visualization theory than other library\n",
        "barchart = alt.Chart(pd.DataFrame(df_iris_uni)).mark_bar().encode(\n",
        "    alt.X(\"sepal length (cm):Q\",bin=alt.Bin(maxbins=10)), # include number of bins\n",
        "    alt.Y('count():Q', stack=None)\n",
        ")\n",
        "barchart"
      ],
      "execution_count": null,
      "outputs": []
    },
    {
      "cell_type": "code",
      "metadata": {
        "id": "ElsQbS4U9TWe"
      },
      "source": [
        "barchart.interactive() # interactive chart"
      ],
      "execution_count": null,
      "outputs": []
    },
    {
      "cell_type": "markdown",
      "metadata": {
        "id": "CLtQQpyPCY1L"
      },
      "source": [
        "# 2. Bivariate visualization"
      ]
    },
    {
      "cell_type": "markdown",
      "metadata": {
        "id": "AUmDztlpFM3o"
      },
      "source": [
        "##2.1 nominal & nominal\n"
      ]
    },
    {
      "cell_type": "markdown",
      "metadata": {
        "id": "EwsP-5PBNM_l"
      },
      "source": [
        "### Heatmap"
      ]
    },
    {
      "cell_type": "code",
      "metadata": {
        "id": "a-ZP-FZPCa_E"
      },
      "source": [
        "df_titanic = sns.load_dataset(\"titanic\")\n",
        "df_titanic.head()"
      ],
      "execution_count": null,
      "outputs": []
    },
    {
      "cell_type": "code",
      "metadata": {
        "id": "8ryuI5ZaCq3S"
      },
      "source": [
        "df_titanic_nom_nom = df_titanic.loc[:,['class','embark_town']] # select column\n",
        "df_titanic_nom_nom_pivot = (df_titanic_nom_nom\n",
        "                            .value_counts()\n",
        "                            .to_frame('count')\n",
        "                            .pivot_table(index='class',columns='embark_town',values='count'))\n",
        "df_titanic_nom_nom_pivot"
      ],
      "execution_count": null,
      "outputs": []
    },
    {
      "cell_type": "code",
      "metadata": {
        "id": "LoYWeDV1CsvN"
      },
      "source": [
        "df_titanic_nom_nom_pivot_pct = df_titanic_nom_nom_pivot.divide(df_titanic_nom_nom_pivot.sum(axis='rows'),axis='columns')\n",
        "df_titanic_nom_nom_pivot_pct"
      ],
      "execution_count": null,
      "outputs": []
    },
    {
      "cell_type": "code",
      "metadata": {
        "id": "Qj2CwTysE9xT"
      },
      "source": [
        "# seaborn\n",
        "sns.set(font_scale=1.25)\n",
        "fig,(ax1,ax2) = plt.subplots(1,2,figsize=(14,4)) # create sub plot\n",
        "\n",
        "sns.heatmap(df_titanic_nom_nom_pivot, annot=True, fmt=\".03f\",ax=ax1)\n",
        "sns.heatmap(df_titanic_nom_nom_pivot_pct, annot=True, fmt=\".03f\",ax=ax2)\n",
        "\n",
        "# add title\n",
        "ax1.set_title(\"Number of customer\",fontsize=15)\n",
        "ax2.set_title(\"Percent count of customer for each embark_town\",fontsize=15)"
      ],
      "execution_count": null,
      "outputs": []
    },
    {
      "cell_type": "code",
      "source": [
        "# if we use altair to create heatmap, we must unstack data like this\n",
        "df_titanic_nom_nom_pivot.unstack().to_frame('count').reset_index()"
      ],
      "metadata": {
        "id": "u4ayvuzWs-YH"
      },
      "execution_count": null,
      "outputs": []
    },
    {
      "cell_type": "code",
      "metadata": {
        "id": "SmdnGzRGbPqR"
      },
      "source": [
        "# altair\n",
        "df_titanic_nom_nom_unstack = df_titanic_nom_nom_pivot.unstack().to_frame('count').reset_index()\n",
        "\n",
        "# create heatmap chart\n",
        "heatmap = alt.Chart(df_titanic_nom_nom_unstack).mark_rect().encode(\n",
        "    x='embark_town:N', # :N is nominal data\n",
        "    y='class:N',\n",
        "    color='count:Q' # :Q is qunatitative data\n",
        ")\n",
        "# mark may not be important if data is clear to identify type of data\n",
        "\n",
        "# create number chart\n",
        "number = alt.Chart(df_titanic_nom_nom_unstack).mark_text(fontSize=20).encode(\n",
        "    x='embark_town:N',\n",
        "    y='class:N',\n",
        "    text='count:Q',\n",
        "    color=alt.condition(\n",
        "        alt.datum.count > 300,\n",
        "        alt.value('white'),\n",
        "        alt.value('black')\n",
        "    )\n",
        ")\n",
        "\n",
        "# heatmap chart overlap with number chart\n",
        "(heatmap+number).properties(\n",
        "    width=200,\n",
        "    height=150\n",
        ")"
      ],
      "execution_count": null,
      "outputs": []
    },
    {
      "cell_type": "markdown",
      "metadata": {
        "id": "nvZTfFAD2_jz"
      },
      "source": [
        "##2.2 nominal & quantitative\n",
        "\n",
        "\n"
      ]
    },
    {
      "cell_type": "code",
      "metadata": {
        "id": "q0bHaywon1Fc"
      },
      "source": [
        "df_titanic_nom_quan = df_titanic.loc[:,['class','fare']]\n",
        "df_titanic_nom_quan"
      ],
      "execution_count": null,
      "outputs": []
    },
    {
      "cell_type": "markdown",
      "metadata": {
        "id": "W0E9kiQZ_cqP"
      },
      "source": [
        "### Barplot"
      ]
    },
    {
      "cell_type": "code",
      "metadata": {
        "id": "UiUfTOJxoyt3"
      },
      "source": [
        "# barplot\n",
        "df_titanic_nom_quan_bar = df_titanic_nom_quan.groupby('class')[['fare']].mean().reset_index()\n",
        "df_titanic_nom_quan_bar = df_titanic_nom_quan_bar.rename(columns={'fare':'mean_fare'})\n",
        "df_titanic_nom_quan_bar"
      ],
      "execution_count": null,
      "outputs": []
    },
    {
      "cell_type": "code",
      "metadata": {
        "id": "FzMkF5Jo6d73"
      },
      "source": [
        "sns.set(font_scale=1.25)\n",
        "fig,(ax1,ax2) = plt.subplots(1,2,figsize=(14,6))\n",
        "\n",
        "# vertical bar chart\n",
        "ax1.bar(x='class',height='mean_fare',data=df_titanic_nom_quan_bar)\n",
        "ax1.set_xlabel('class')\n",
        "ax1.set_ylabel('mean of fare')\n",
        "ax1.set_title('Mean of fare for each class',fontsize=20)\n",
        "\n",
        "# horizontal bar chart\n",
        "ax2.barh(y='class',width='mean_fare',data=df_titanic_nom_quan_bar)\n",
        "ax2.set_xlabel('mean of fare')\n",
        "ax2.set_ylabel('class')\n",
        "ax2.set_title('Mean of fare for each class',fontsize=20)\n",
        "\n",
        "fig.tight_layout(pad=1.0)\n"
      ],
      "execution_count": null,
      "outputs": []
    },
    {
      "cell_type": "code",
      "metadata": {
        "id": "H5yqzaeavX2z"
      },
      "source": [
        "sns.set(font_scale=1.25)\n",
        "fig,(ax1,ax2) = plt.subplots(1,2,figsize=(14,6))\n",
        "\n",
        "ax1.plot(['First', 'Second', 'Third'],df_titanic_nom_quan_bar['mean_fare'])\n",
        "ax1.set_xlabel('class')\n",
        "ax1.set_ylabel('mean of fare')\n",
        "ax1.set_title('Mean of fare for each class',fontsize=20)\n",
        "\n",
        "# adjusted y axis\n",
        "ax2.plot(['First', 'Second', 'Third'],df_titanic_nom_quan_bar['mean_fare'])\n",
        "ax2.set_ylim(0,90) # set y limit start at 0 to prevent truncated graph\n",
        "ax2.set_xlabel('class')\n",
        "ax2.set_ylabel('mean of fare')\n",
        "ax2.set_title('Mean of fare for each class',fontsize=20)\n",
        "\n",
        "fig.tight_layout(pad=1.0)\n"
      ],
      "execution_count": null,
      "outputs": []
    },
    {
      "cell_type": "markdown",
      "metadata": {
        "id": "PmQ0Nui2_qlD"
      },
      "source": [
        "### About distribution plot"
      ]
    },
    {
      "cell_type": "code",
      "metadata": {
        "id": "e5lmG_1L_1Nj"
      },
      "source": [
        "# distplot with multiple distribution\n",
        "sns.kdeplot(x='fare',hue='class',data=df_titanic_nom_quan[df_titanic_nom_quan['class']=='First'].query('fare<100'))\n",
        "sns.kdeplot(x='fare',hue='class',data=df_titanic_nom_quan[df_titanic_nom_quan['class']=='Second'].query('fare<100'))\n",
        "sns.kdeplot(x='fare',hue='class',data=df_titanic_nom_quan[df_titanic_nom_quan['class']=='Third'].query('fare<100'))"
      ],
      "execution_count": null,
      "outputs": []
    },
    {
      "cell_type": "code",
      "metadata": {
        "id": "G74_FFts_FfV"
      },
      "source": [
        "# boxplot\n",
        "sns.boxplot(x='class',y='fare',data=df_titanic_nom_quan.query('fare<100'))\n",
        "# boxplot can show outlier"
      ],
      "execution_count": null,
      "outputs": []
    },
    {
      "cell_type": "code",
      "source": [
        "print('titanic dataframe')\n",
        "display(df_titanic.head())\n",
        "print('')\n",
        "print('')\n",
        "print('iris dataframe')\n",
        "display(df_iris.head())"
      ],
      "metadata": {
        "id": "N9ZsWhQPtqla"
      },
      "execution_count": null,
      "outputs": []
    },
    {
      "cell_type": "code",
      "metadata": {
        "id": "fhpuA9XRAszl"
      },
      "source": [
        "# stripplot\n",
        "sns.set(font_scale=1.25)\n",
        "fig,([ax1,ax2],[ax3,ax4]) = plt.subplots(2,2,figsize=(8,8))\n",
        "\n",
        "sns.stripplot(x='class', y='fare', data=df_titanic_nom_quan,jitter=False,ax=ax1)\n",
        "# with out jittering, we can't see density of data\n",
        "sns.stripplot(x='class', y='fare', data=df_titanic_nom_quan,jitter=True,ax=ax2)\n",
        "\n",
        "sns.stripplot(x='target_name', y='sepal width (cm)', data=df_iris,jitter=False,ax=ax3)\n",
        "sns.stripplot(x='target_name', y='sepal width (cm)', data=df_iris,jitter=True,ax=ax4)\n",
        "# stripplot with jittering is good when data is not large Ex. iris data\n",
        "\n",
        "ax1.set_title(\"Titanic without jittering\",fontsize=15)\n",
        "ax2.set_title(\"Titanic with jittering\",fontsize=15)\n",
        "\n",
        "ax3.set_title(\"Iris without jittering\",fontsize=15)\n",
        "ax4.set_title(\"Iris with jittering\",fontsize=15)\n",
        "\n",
        "fig.tight_layout(pad=1.0)"
      ],
      "execution_count": null,
      "outputs": []
    },
    {
      "cell_type": "code",
      "metadata": {
        "id": "nuzds3yu_NSn"
      },
      "source": [
        "# swarmplot: similar to stripplot but different swarmplot is not try to squeeze point closely\n",
        "# it not good to describe large data\n",
        "sns.set(font_scale=1.25)\n",
        "fig,(ax1,ax2) = plt.subplots(1,2,figsize=(12,6))\n",
        "sns.swarmplot(x='class', y='fare', data=df_titanic_nom_quan,ax=ax1)\n",
        "\n",
        "sns.swarmplot(x='target_name', y='sepal width (cm)', data=df_iris,ax=ax2)\n",
        "\n",
        "ax1.set_title(\"Titanic dataset\",fontsize=15)\n",
        "ax2.set_title(\"Iris dataset\",fontsize=15)\n"
      ],
      "execution_count": null,
      "outputs": []
    },
    {
      "cell_type": "markdown",
      "metadata": {
        "id": "uqkbkCdAIXaM"
      },
      "source": [
        "##2.3 quantitative & quantitative"
      ]
    },
    {
      "cell_type": "markdown",
      "metadata": {
        "id": "PA4BN0gwKi6V"
      },
      "source": [
        "###Scatter plot"
      ]
    },
    {
      "cell_type": "code",
      "metadata": {
        "id": "dL7m7Fj8J1pQ"
      },
      "source": [
        "df_iris.loc[:,['sepal length (cm)','sepal width (cm)']]"
      ],
      "execution_count": null,
      "outputs": []
    },
    {
      "cell_type": "code",
      "metadata": {
        "id": "Tw1zrZ_aJT0X"
      },
      "source": [
        "# seaborn\n",
        "sns.scatterplot(x='sepal length (cm)',y='sepal width (cm)',data=df_iris)\n",
        "plt.xlabel('sepal length')\n",
        "plt.ylabel('sepal width')"
      ],
      "execution_count": null,
      "outputs": []
    },
    {
      "cell_type": "code",
      "metadata": {
        "id": "fciovG5RJmDV"
      },
      "source": [
        "# altair\n",
        "scatter = alt.Chart(df_iris).mark_point().encode(\n",
        "    x='sepal length (cm)',\n",
        "    y='sepal width (cm)',\n",
        ")\n",
        "scatter.properties(\n",
        "    width=400,\n",
        "    height=400\n",
        ").interactive()"
      ],
      "execution_count": null,
      "outputs": []
    },
    {
      "cell_type": "markdown",
      "metadata": {
        "id": "ewWH9KEjK3SA"
      },
      "source": [
        "#Multivariate data visualization"
      ]
    },
    {
      "cell_type": "markdown",
      "metadata": {
        "id": "UPVcmqfgLLat"
      },
      "source": [
        "##3.1 Scatter plot"
      ]
    },
    {
      "cell_type": "code",
      "metadata": {
        "id": "lbtPcxMILNKZ"
      },
      "source": [
        "sns.scatterplot(x='sepal length (cm)',y='sepal width (cm)',hue='target_name',data=df_iris)\n",
        "plt.xlabel('sepal length')\n",
        "plt.ylabel('sepal width')"
      ],
      "execution_count": null,
      "outputs": []
    },
    {
      "cell_type": "code",
      "metadata": {
        "id": "WWVv0nldLkZp"
      },
      "source": [
        "# altair\n",
        "scatter = alt.Chart(df_iris).mark_point().encode(\n",
        "    x='sepal length (cm)',\n",
        "    y='sepal width (cm)',\n",
        "    color = 'target_name',\n",
        ")\n",
        "scatter.properties(\n",
        "    width=400,\n",
        "    height=400\n",
        ")"
      ],
      "execution_count": null,
      "outputs": []
    },
    {
      "cell_type": "code",
      "metadata": {
        "id": "H_ebvu3VMs3U"
      },
      "source": [
        "# car dataset\n",
        "headers = [\"symboling\", \"normalized_losses\", \"make\", \"fuel_type\", \"aspiration\",\n",
        "           \"num_doors\", \"body_style\", \"drive_wheels\", \"engine_location\",\n",
        "           \"wheel_base\", \"length\", \"width\", \"height\", \"curb_weight\",\n",
        "           \"engine_type\", \"num_cylinders\", \"engine_size\", \"fuel_system\",\n",
        "           \"bore\", \"stroke\", \"compression_ratio\", \"horsepower\", \"peak_rpm\",\n",
        "           \"city_mpg\", \"highway_mpg\", \"price\"]\n",
        "df_cars = pd.read_csv(\"https://archive.ics.uci.edu/ml/machine-learning-databases/autos/imports-85.data\",\n",
        "                  header=None, names=headers, na_values=\"?\" )"
      ],
      "execution_count": null,
      "outputs": []
    },
    {
      "cell_type": "code",
      "metadata": {
        "id": "fZ0giCh84KGL"
      },
      "source": [
        "df_cars_tmp = df_cars[df_cars['make'].isin(['isuzu','toyota','honda','volvo'])]"
      ],
      "execution_count": null,
      "outputs": []
    },
    {
      "cell_type": "code",
      "source": [
        "df_cars_tmp.head()"
      ],
      "metadata": {
        "id": "5PKldqkvvCzv"
      },
      "execution_count": null,
      "outputs": []
    },
    {
      "cell_type": "code",
      "metadata": {
        "id": "1Nt81RE-348h"
      },
      "source": [
        "sns.set(font_scale=1)\n",
        "sns.scatterplot(x=df_cars_tmp['horsepower'],\n",
        "                y=df_cars_tmp['wheel_base'],\n",
        "                legend=False)"
      ],
      "execution_count": null,
      "outputs": []
    },
    {
      "cell_type": "code",
      "metadata": {
        "id": "tkqKjShi368q"
      },
      "source": [
        "sns.set(font_scale=1)\n",
        "sns.scatterplot(x=df_cars_tmp['horsepower'],\n",
        "                y=df_cars_tmp['wheel_base'],\n",
        "                hue=df_cars_tmp['make']\n",
        "                )\n",
        "plt.legend(bbox_to_anchor=(1.05, 1), loc=2, borderaxespad=0.)"
      ],
      "execution_count": null,
      "outputs": []
    },
    {
      "cell_type": "code",
      "metadata": {
        "id": "XRsXQuT64B7u"
      },
      "source": [
        "sns.set(font_scale=1)\n",
        "sns.scatterplot(x=df_cars_tmp['horsepower'],\n",
        "                y=df_cars_tmp['wheel_base'],\n",
        "                hue=df_cars_tmp['make'],\n",
        "                size = df_cars_tmp['price']\n",
        "                )\n",
        "plt.legend(bbox_to_anchor=(1.05, 1), loc=2, borderaxespad=0.)\n"
      ],
      "execution_count": null,
      "outputs": []
    },
    {
      "cell_type": "code",
      "metadata": {
        "id": "FBW1U0hLLx77"
      },
      "source": [
        "sns.set(font_scale=1.25)\n",
        "fig,(ax1,ax2,ax3) = plt.subplots(1,3,figsize=(21,7))\n",
        "\n",
        "sns.scatterplot(x=df_cars_tmp['horsepower'],\n",
        "                y=df_cars_tmp['wheel_base'],\n",
        "                # legend=False,\n",
        "                ax=ax1)\n",
        "sns.scatterplot(x=df_cars_tmp['horsepower'],\n",
        "                y=df_cars_tmp['wheel_base'],\n",
        "                hue=df_cars_tmp['make'],\n",
        "                # legend=False,\n",
        "                ax=ax2\n",
        "               )\n",
        "ax3=sns.scatterplot(x=df_cars_tmp['horsepower'],\n",
        "                y=df_cars_tmp['wheel_base'],\n",
        "                hue=df_cars_tmp['make'],\n",
        "                size = df_cars_tmp['price'],\n",
        "                # legend=False,\n",
        "                ax=ax3\n",
        "               )\n",
        "\n",
        "\n",
        "ax1.set_title('2 dimensions')\n",
        "ax2.set_title('3 dimensions')\n",
        "ax3.set_title('4 dimensions')"
      ],
      "execution_count": null,
      "outputs": []
    },
    {
      "cell_type": "code",
      "metadata": {
        "id": "KXckAYDkMzGv"
      },
      "source": [
        "# altair\n",
        "scatter = alt.Chart(df_cars_tmp).mark_point().encode(\n",
        "    x='horsepower',\n",
        "    y='wheel_base',\n",
        "    color = 'make',\n",
        "    size = 'price',\n",
        "    tooltip=['horsepower','wheel_base','fuel_type','num_doors' ,'make', 'price']\n",
        ")\n",
        "scatter.properties(\n",
        "    width=400,\n",
        "    height=400\n",
        ").interactive()"
      ],
      "execution_count": null,
      "outputs": []
    },
    {
      "cell_type": "markdown",
      "metadata": {
        "id": "RHR9nggLqruy"
      },
      "source": [
        "##3.2 Stack&multiple bar chart"
      ]
    },
    {
      "cell_type": "code",
      "metadata": {
        "id": "mk7tsMBKq3dM"
      },
      "source": [
        "# preprocess\n",
        "df_titanic_stack_bar = df_titanic.loc[:,['sex','embark_town']].value_counts().to_frame('count').reset_index()\n",
        "df_titanic_stack_bar = df_titanic_stack_bar.pivot_table(index='embark_town',columns='sex').reset_index()\n",
        "df_titanic_stack_bar.columns = ['embark_town','count_male','count_female']\n",
        "df_titanic_stack_bar"
      ],
      "execution_count": null,
      "outputs": []
    },
    {
      "cell_type": "code",
      "source": [
        "fig,(ax1,ax2) = plt.subplots(1,2,figsize=(14,6))\n",
        "\n",
        "df_titanic_stack_bar.set_index('embark_town').plot.bar(stacked=True,rot=0,ax=ax1) # default is not stacked\n",
        "plt.legend(['Men','Women'])\n",
        "\n",
        "df_titanic_stack_bar.set_index('embark_town').plot.bar(rot=0,ax=ax2)\n",
        "plt.legend(['Men','Women'])"
      ],
      "metadata": {
        "id": "W9xLHi_Ql3Mv"
      },
      "execution_count": null,
      "outputs": []
    },
    {
      "cell_type": "code",
      "metadata": {
        "id": "Z3HQoMLGPWRp"
      },
      "source": [
        "# altair\n",
        "stack_bar_chart = alt.Chart(df_titanic).mark_bar().encode(\n",
        "    x='embark_town',\n",
        "    y='count(*):Q',\n",
        "    color='sex:N'\n",
        ").properties(\n",
        "    width=400,\n",
        "    height=400\n",
        ")\n",
        "\n",
        "multiple_bar_chart = alt.Chart(df_titanic).mark_bar().encode(\n",
        "    x=alt.X('sex:O',axis=alt.Axis(title=None, labels=False)),\n",
        "    y='count(*):Q',\n",
        "    color='sex:N',\n",
        "    column=alt.Column('embark_town:N',header=alt.Header(titleOrient='bottom', labelOrient='bottom'))\n",
        ").properties(\n",
        "    width=100,\n",
        "    height=400\n",
        ")"
      ],
      "execution_count": null,
      "outputs": []
    },
    {
      "cell_type": "code",
      "metadata": {
        "id": "hpBnXb-dsz2B"
      },
      "source": [
        "(stack_bar_chart|multiple_bar_chart).resolve_scale(y='shared',color='shared') # altair it will not exclude null"
      ],
      "execution_count": null,
      "outputs": []
    },
    {
      "cell_type": "markdown",
      "metadata": {
        "id": "5iXbbUUEeDgf"
      },
      "source": [
        "##3.3 Small multiple"
      ]
    },
    {
      "cell_type": "code",
      "metadata": {
        "id": "U_lpGd93eKsT"
      },
      "source": [
        "# small multiple it good for quick scan data\n",
        "sns.pairplot(df_iris.drop(columns='target'),hue='target_name')"
      ],
      "execution_count": null,
      "outputs": []
    },
    {
      "cell_type": "code",
      "metadata": {
        "id": "SIteH2TchVu8"
      },
      "source": [
        "# pairplot using altair\n",
        "alt.Chart(df_iris).mark_circle().encode(\n",
        "    alt.X(alt.repeat(\"column\"), type='quantitative'),\n",
        "    alt.Y(alt.repeat(\"row\"), type='quantitative'),\n",
        "    color='target_name:N'\n",
        ").properties(\n",
        "    width=150,\n",
        "    height=150\n",
        ").repeat(\n",
        "    row=['sepal length (cm)', 'sepal width (cm)', 'petal length (cm)','petal width (cm)'],\n",
        "    column=['sepal length (cm)', 'sepal width (cm)', 'petal length (cm)','petal width (cm)'],\n",
        ").interactive()"
      ],
      "execution_count": null,
      "outputs": []
    },
    {
      "cell_type": "markdown",
      "metadata": {
        "id": "tB-vEZeKOni7"
      },
      "source": [
        "# Visual variable separability"
      ]
    },
    {
      "cell_type": "code",
      "metadata": {
        "id": "2SvNyXopNQgP"
      },
      "source": [
        "fig,(ax1,ax2) = plt.subplots(1,2,figsize=(14,7))\n",
        "\n",
        "sns.scatterplot(x='sepal length (cm)',y='sepal width (cm)',style='target_name',data=df_iris, ax=ax1)\n",
        "# if not slect right visual variable it can make confusion and hard to understand\n",
        "sns.scatterplot(x='sepal length (cm)',y='sepal width (cm)',hue='target_name',data=df_iris, ax=ax2)\n"
      ],
      "execution_count": null,
      "outputs": []
    },
    {
      "cell_type": "markdown",
      "source": [
        "Right figure is easier to understand than the left."
      ],
      "metadata": {
        "id": "YBo6U0q0FmZ_"
      }
    }
  ]
}